{
 "cells": [
  {
   "cell_type": "code",
   "execution_count": 1,
   "id": "3b7d5140",
   "metadata": {},
   "outputs": [],
   "source": [
    "import pandas as pd\n",
    "import numpy as np\n",
    "import matplotlib.pyplot as plt\n",
    "from sklearn.model_selection import GridSearchCV\n",
    "from sklearn.ensemble import GradientBoostingClassifier\n",
    "from sklearn.metrics import accuracy_score\n",
    "from sklearn.metrics import f1_score\n",
    "from sklearn.metrics import precision_score\n",
    "from sklearn.metrics import recall_score"
   ]
  },
  {
   "cell_type": "code",
   "execution_count": 2,
   "id": "8912d04f",
   "metadata": {},
   "outputs": [],
   "source": [
    "df1=pd.read_csv('df_TrainOutFinal.csv')\n",
    "df2=pd.read_csv('df_TestOutFinal.csv')"
   ]
  },
  {
   "cell_type": "code",
   "execution_count": 3,
   "id": "15990687",
   "metadata": {},
   "outputs": [],
   "source": [
    "d1=df1.values\n",
    "d2=df2.values\n",
    "x_tr=d1[:,0:8]\n",
    "y_tr=d1[:,8]\n",
    "x_ts=d2[:,0:8]\n",
    "y_ts=d2[:,8]"
   ]
  },
  {
   "cell_type": "code",
   "execution_count": null,
   "id": "f2724dd1",
   "metadata": {},
   "outputs": [],
   "source": [
    "gbc_params = [{ 'min_samples_split':[500000,250000],'min_samples_leaf':[200000,100000]}]\n",
    "model = GridSearchCV(estimator = GradientBoostingClassifier(learning_rate=0.2, n_estimators=30,max_depth=10,max_features='sqrt', subsample=0.8, random_state=10),param_grid = gbc_params, scoring='accuracy',n_jobs=-1, cv=5)\n",
    "model.fit(x_tr,y_tr)\n",
    "predict=model.predict(x_ts)"
   ]
  },
  {
   "cell_type": "code",
   "execution_count": 5,
   "id": "21e44cdd",
   "metadata": {},
   "outputs": [
    {
     "name": "stdout",
     "output_type": "stream",
     "text": [
      "accuracy:  0.6680706931964603\n",
      "f1 score:  0.8010100482207524\n",
      "precision:  0.6680706931964603\n",
      "recall:  1.0\n"
     ]
    }
   ],
   "source": [
    "print(\"accuracy: \",accuracy_score(y_ts,predict))\n",
    "print(\"f1 score: \",f1_score(y_ts,predict))\n",
    "print(\"precision: \",precision_score(y_ts,predict))\n",
    "print(\"recall: \",recall_score(y_ts,predict))"
   ]
  },
  {
   "cell_type": "code",
   "execution_count": 8,
   "id": "90e06a72",
   "metadata": {},
   "outputs": [
    {
     "name": "stdout",
     "output_type": "stream",
     "text": [
      "{'min_samples_leaf': 100000, 'min_samples_split': 500000}\n",
      "0.6682424364182826\n"
     ]
    }
   ],
   "source": [
    "print(model.best_params_)\n",
    "print(model.best_score_)"
   ]
  }
 ],
 "metadata": {
  "kernelspec": {
   "display_name": "Python 3",
   "language": "python",
   "name": "python3"
  },
  "language_info": {
   "codemirror_mode": {
    "name": "ipython",
    "version": 3
   },
   "file_extension": ".py",
   "mimetype": "text/x-python",
   "name": "python",
   "nbconvert_exporter": "python",
   "pygments_lexer": "ipython3",
   "version": "3.8.8"
  }
 },
 "nbformat": 4,
 "nbformat_minor": 5
}
