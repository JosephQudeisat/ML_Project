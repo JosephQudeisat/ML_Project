{
 "cells": [
  {
   "cell_type": "code",
   "execution_count": 1,
   "id": "2387204d",
   "metadata": {},
   "outputs": [],
   "source": [
    "import pandas as pd\n",
    "import numpy as np\n",
    "import matplotlib.pyplot as plt\n",
    "from sklearn.tree import DecisionTreeClassifier\n",
    "from sklearn.ensemble import AdaBoostClassifier\n",
    "from sklearn.metrics import accuracy_score\n",
    "from sklearn.metrics import f1_score\n",
    "from sklearn.metrics import precision_score\n",
    "from sklearn.metrics import recall_score\n",
    "from sklearn import tree\n",
    "from sklearn.model_selection import GridSearchCV"
   ]
  },
  {
   "cell_type": "code",
   "execution_count": 2,
   "id": "c7aa1f16",
   "metadata": {},
   "outputs": [],
   "source": [
    "df1=pd.read_csv('df_TrainOutFinal.csv')\n",
    "df2=pd.read_csv('df_TestOutFinal.csv')"
   ]
  },
  {
   "cell_type": "code",
   "execution_count": 3,
   "id": "6267f8af",
   "metadata": {},
   "outputs": [],
   "source": [
    "d1=df1.values\n",
    "d2=df2.values\n",
    "x_tr=d1[:,0:8]\n",
    "y_tr=d1[:,8]\n",
    "x_ts=d2[:,0:8]\n",
    "y_ts=d2[:,8]\n",
    "ada=AdaBoostClassifier()\n",
    "search_grid={'n_estimators':[10,15,20],'learning_rate':[.05,0.1]}\n",
    "model=GridSearchCV(estimator=ada,param_grid=search_grid,scoring='accuracy',n_jobs=1,cv = 10)\n",
    "model.fit(x_tr,y_tr)\n",
    "predict=model.predict(x_ts)"
   ]
  },
  {
   "cell_type": "code",
   "execution_count": 4,
   "id": "8236aa90",
   "metadata": {},
   "outputs": [
    {
     "name": "stdout",
     "output_type": "stream",
     "text": [
      "{'learning_rate': 0.05, 'n_estimators': 10}\n",
      "0.6682403076591507\n"
     ]
    }
   ],
   "source": [
    "print(model.best_params_)\n",
    "print(model.best_score_)"
   ]
  },
  {
   "cell_type": "code",
   "execution_count": 5,
   "id": "0bdd74c1",
   "metadata": {},
   "outputs": [
    {
     "name": "stdout",
     "output_type": "stream",
     "text": [
      "accuracy:  0.6680706931964603\n",
      "f1 score:  0.8010100482207524\n",
      "precision:  0.6680706931964603\n",
      "recall:  1.0\n"
     ]
    }
   ],
   "source": [
    "print(\"accuracy: \",accuracy_score(y_ts,predict))\n",
    "print(\"f1 score: \",f1_score(y_ts,predict))\n",
    "print(\"precision: \",precision_score(y_ts,predict))\n",
    "print(\"recall: \",recall_score(y_ts,predict))"
   ]
  }
 ],
 "metadata": {
  "kernelspec": {
   "display_name": "Python 3",
   "language": "python",
   "name": "python3"
  },
  "language_info": {
   "codemirror_mode": {
    "name": "ipython",
    "version": 3
   },
   "file_extension": ".py",
   "mimetype": "text/x-python",
   "name": "python",
   "nbconvert_exporter": "python",
   "pygments_lexer": "ipython3",
   "version": "3.8.8"
  }
 },
 "nbformat": 4,
 "nbformat_minor": 5
}
